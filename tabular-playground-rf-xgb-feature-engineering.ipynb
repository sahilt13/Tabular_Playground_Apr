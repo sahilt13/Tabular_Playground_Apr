{
 "cells": [
  {
   "cell_type": "markdown",
   "metadata": {},
   "source": [
    "Check class balancing\n",
    "Fare and Embarked missing values impute based on other variables\n",
    "\n",
    "Commited to Git\n"
   ]
  },
  {
   "cell_type": "code",
   "execution_count": 43,
   "metadata": {
    "execution": {
     "iopub.execute_input": "2021-04-08T04:12:31.629469Z",
     "iopub.status.busy": "2021-04-08T04:12:31.628604Z",
     "iopub.status.idle": "2021-04-08T04:12:33.315497Z",
     "shell.execute_reply": "2021-04-08T04:12:33.316059Z"
    },
    "papermill": {
     "duration": 1.730198,
     "end_time": "2021-04-08T04:12:33.316380",
     "exception": false,
     "start_time": "2021-04-08T04:12:31.586182",
     "status": "completed"
    },
    "tags": []
   },
   "outputs": [],
   "source": [
    "import numpy as np\n",
    "import pandas as pd\n",
    "from sklearn.model_selection import train_test_split\n",
    "import matplotlib.pyplot as plt\n",
    "import seaborn as sns\n",
    "from sklearn.preprocessing import OneHotEncoder\n",
    "from sklearn.model_selection import GridSearchCV\n",
    "from sklearn.metrics import roc_auc_score\n",
    "from sklearn.metrics import classification_report\n",
    "from sklearn.metrics import confusion_matrix\n",
    "from sklearn.ensemble import VotingClassifier\n",
    "from sklearn.feature_selection import SelectFromModel"
   ]
  },
  {
   "cell_type": "code",
   "execution_count": 44,
   "metadata": {
    "execution": {
     "iopub.execute_input": "2021-04-08T04:12:33.386959Z",
     "iopub.status.busy": "2021-04-08T04:12:33.386298Z",
     "iopub.status.idle": "2021-04-08T04:12:33.998106Z",
     "shell.execute_reply": "2021-04-08T04:12:33.997334Z"
    },
    "papermill": {
     "duration": 0.648629,
     "end_time": "2021-04-08T04:12:33.998311",
     "exception": false,
     "start_time": "2021-04-08T04:12:33.349682",
     "status": "completed"
    },
    "tags": []
   },
   "outputs": [],
   "source": [
    "train=pd.read_csv('train.csv')\n",
    "val=pd.read_csv('test.csv')"
   ]
  },
  {
   "cell_type": "code",
   "execution_count": 45,
   "metadata": {
    "execution": {
     "iopub.execute_input": "2021-04-08T04:12:34.076079Z",
     "iopub.status.busy": "2021-04-08T04:12:34.072967Z",
     "iopub.status.idle": "2021-04-08T04:12:34.169991Z",
     "shell.execute_reply": "2021-04-08T04:12:34.169189Z"
    },
    "papermill": {
     "duration": 0.140085,
     "end_time": "2021-04-08T04:12:34.170143",
     "exception": false,
     "start_time": "2021-04-08T04:12:34.030058",
     "status": "completed"
    },
    "tags": []
   },
   "outputs": [],
   "source": [
    "#Combining training and validation data for feature engineering\n",
    "train['dataset']= \"Train\"\n",
    "val['dataset']=\"Test\"\n",
    "\n",
    "\n",
    "data= pd.concat([train,val],axis=0)"
   ]
  },
  {
   "cell_type": "code",
   "execution_count": 46,
   "metadata": {
    "execution": {
     "iopub.execute_input": "2021-04-08T04:12:34.236778Z",
     "iopub.status.busy": "2021-04-08T04:12:34.236060Z",
     "iopub.status.idle": "2021-04-08T04:12:34.366746Z",
     "shell.execute_reply": "2021-04-08T04:12:34.365631Z"
    },
    "papermill": {
     "duration": 0.165273,
     "end_time": "2021-04-08T04:12:34.366950",
     "exception": false,
     "start_time": "2021-04-08T04:12:34.201677",
     "status": "completed"
    },
    "tags": []
   },
   "outputs": [
    {
     "name": "stdout",
     "output_type": "stream",
     "text": [
      "(200000, 13)\n",
      "Index(['PassengerId', 'Survived', 'Pclass', 'Name', 'Sex', 'Age', 'SibSp',\n",
      "       'Parch', 'Ticket', 'Fare', 'Cabin', 'Embarked', 'dataset'],\n",
      "      dtype='object')\n",
      "PassengerId         0\n",
      "Survived       100000\n",
      "Pclass              0\n",
      "Name                0\n",
      "Sex                 0\n",
      "Age              6779\n",
      "SibSp               0\n",
      "Parch               0\n",
      "Ticket           9804\n",
      "Fare              267\n",
      "Cabin          138697\n",
      "Embarked          527\n",
      "dataset             0\n",
      "dtype: int64\n"
     ]
    }
   ],
   "source": [
    "print(data.shape)\n",
    "print(data.columns)\n",
    "\n",
    "print(data.isna().agg('sum'))\n",
    "#Variable \"Age\" contains missing values "
   ]
  },
  {
   "cell_type": "code",
   "execution_count": 47,
   "metadata": {
    "execution": {
     "iopub.execute_input": "2021-04-08T04:12:34.458763Z",
     "iopub.status.busy": "2021-04-08T04:12:34.452928Z",
     "iopub.status.idle": "2021-04-08T04:12:34.759340Z",
     "shell.execute_reply": "2021-04-08T04:12:34.758366Z"
    },
    "papermill": {
     "duration": 0.359546,
     "end_time": "2021-04-08T04:12:34.759489",
     "exception": false,
     "start_time": "2021-04-08T04:12:34.399943",
     "status": "completed"
    },
    "tags": []
   },
   "outputs": [
    {
     "data": {
      "text/plain": [
       "<matplotlib.axes._subplots.AxesSubplot at 0x7fbc32504610>"
      ]
     },
     "execution_count": 47,
     "metadata": {},
     "output_type": "execute_result"
    },
    {
     "data": {
      "image/png": "[encoded data removed]",
      "text/plain": [
       "<Figure size 360x360 with 1 Axes>"
      ]
     },
     "metadata": {},
     "output_type": "display_data"
    }
   ],
   "source": [
    "sns.countplot(x='Sex',hue='Survived',data=train)"
   ]
  },
  {
   "cell_type": "code",
   "execution_count": 48,
   "metadata": {
    "execution": {
     "iopub.execute_input": "2021-04-08T04:12:34.867152Z",
     "iopub.status.busy": "2021-04-08T04:12:34.857804Z",
     "iopub.status.idle": "2021-04-08T04:12:35.081168Z",
     "shell.execute_reply": "2021-04-08T04:12:35.081669Z"
    },
    "papermill": {
     "duration": 0.289614,
     "end_time": "2021-04-08T04:12:35.081860",
     "exception": false,
     "start_time": "2021-04-08T04:12:34.792246",
     "status": "completed"
    },
    "tags": []
   },
   "outputs": [
    {
     "name": "stderr",
     "output_type": "stream",
     "text": [
      "/opt/anaconda3/lib/python3.7/site-packages/numpy/lib/histograms.py:839: RuntimeWarning: invalid value encountered in greater_equal\n",
      "  keep = (tmp_a >= first_edge)\n",
      "/opt/anaconda3/lib/python3.7/site-packages/numpy/lib/histograms.py:840: RuntimeWarning: invalid value encountered in less_equal\n",
      "  keep &= (tmp_a <= last_edge)\n"
     ]
    },
    {
     "data": {
      "text/plain": [
       "Text(0, 0.5, 'Frequency')"
      ]
     },
     "execution_count": 48,
     "metadata": {},
     "output_type": "execute_result"
    },
    {
     "data": {
      "image/png": "[encoded data removed]",
      "text/plain": [
       "<Figure size 360x360 with 1 Axes>"
      ]
     },
     "metadata": {},
     "output_type": "display_data"
    }
   ],
   "source": [
    "data.head(20)\n",
    "\n",
    "data.Cabin.value_counts()\n",
    "\n",
    "plt.hist(x=data.Age, bins=10)\n",
    "plt.grid(axis='y', alpha=0.75)\n",
    "plt.xlabel('Value')\n",
    "plt.ylabel('Frequency')"
   ]
  },
  {
   "cell_type": "code",
   "execution_count": 49,
   "metadata": {
    "execution": {
     "iopub.execute_input": "2021-04-08T04:12:35.178994Z",
     "iopub.status.busy": "2021-04-08T04:12:35.178309Z",
     "iopub.status.idle": "2021-04-08T04:12:39.819813Z",
     "shell.execute_reply": "2021-04-08T04:12:39.819170Z"
    },
    "papermill": {
     "duration": 4.701944,
     "end_time": "2021-04-08T04:12:39.819955",
     "exception": false,
     "start_time": "2021-04-08T04:12:35.118011",
     "status": "completed"
    },
    "tags": []
   },
   "outputs": [
    {
     "data": {
      "text/plain": [
       "<matplotlib.axes._subplots.AxesSubplot at 0x7fbc25dfa490>"
      ]
     },
     "execution_count": 49,
     "metadata": {},
     "output_type": "execute_result"
    },
    {
     "data": {
      "image/png": "[encoded data removed]",
      "text/plain": [
       "<Figure size 842.4x1440 with 1 Axes>"
      ]
     },
     "metadata": {},
     "output_type": "display_data"
    },
    {
     "data": {
      "image/png": "[encoded data removed]",
      "text/plain": [
       "<Figure size 1440x720 with 1 Axes>"
      ]
     },
     "metadata": {},
     "output_type": "display_data"
    }
   ],
   "source": [
    "data['Ticket']=data['Ticket'].fillna('NA')\n",
    "\n",
    "data['Ticket_1']=data['Ticket'].str.slice(stop=2)\n",
    "\n",
    "sns.set(rc={'figure.figsize':(11.7,20)})\n",
    "\n",
    "sns.countplot(y='Ticket_1',data=data)\n",
    "\n",
    "sns.set(rc={'figure.figsize':(5,5)})\n",
    "\n",
    "\n",
    "p=data[['Ticket_1','Survived']].groupby(['Ticket_1']).agg(np.mean)\n",
    "\n",
    "p=p.reset_index()\n",
    "\n",
    "p.plot.bar(x='Ticket_1',y='Survived',figsize=(20,10))\n",
    "\n"
   ]
  },
  {
   "cell_type": "markdown",
   "metadata": {
    "papermill": {
     "duration": 0.037868,
     "end_time": "2021-04-08T04:12:39.895642",
     "exception": false,
     "start_time": "2021-04-08T04:12:39.857774",
     "status": "completed"
    },
    "tags": []
   },
   "source": [
    "**It can be seen in the charts above Tickets with PP and PC have higher chance of survival**"
   ]
  },
  {
   "cell_type": "code",
   "execution_count": 50,
   "metadata": {
    "execution": {
     "iopub.execute_input": "2021-04-08T04:12:40.038738Z",
     "iopub.status.busy": "2021-04-08T04:12:40.037410Z",
     "iopub.status.idle": "2021-04-08T04:12:40.051768Z",
     "shell.execute_reply": "2021-04-08T04:12:40.051129Z"
    },
    "papermill": {
     "duration": 0.118491,
     "end_time": "2021-04-08T04:12:40.051918",
     "exception": false,
     "start_time": "2021-04-08T04:12:39.933427",
     "status": "completed"
    },
    "tags": []
   },
   "outputs": [
    {
     "data": {
      "text/plain": [
       "0    181055\n",
       "1     18945\n",
       "Name: ticket_pp, dtype: int64"
      ]
     },
     "execution_count": 50,
     "metadata": {},
     "output_type": "execute_result"
    }
   ],
   "source": [
    "conditions = [\n",
    "    (data['Ticket_1'] == 'PC') | (data['Ticket_1'] == 'PP')]\n",
    "choices = [1]\n",
    "\n",
    "data['ticket_pp']=np.select(conditions, choices,default=0)\n",
    "\n",
    "data.ticket_pp.value_counts()"
   ]
  },
  {
   "cell_type": "code",
   "execution_count": 51,
   "metadata": {
    "execution": {
     "iopub.execute_input": "2021-04-08T04:12:40.171741Z",
     "iopub.status.busy": "2021-04-08T04:12:40.155264Z",
     "iopub.status.idle": "2021-04-08T04:12:40.717546Z",
     "shell.execute_reply": "2021-04-08T04:12:40.716725Z"
    },
    "papermill": {
     "duration": 0.623187,
     "end_time": "2021-04-08T04:12:40.717690",
     "exception": false,
     "start_time": "2021-04-08T04:12:40.094503",
     "status": "completed"
    },
    "tags": []
   },
   "outputs": [
    {
     "data": {
      "text/plain": [
       "<matplotlib.axes._subplots.AxesSubplot at 0x7fbc2780e850>"
      ]
     },
     "execution_count": 51,
     "metadata": {},
     "output_type": "execute_result"
    },
    {
     "data": {
      "image/png": "[encoded data removed]",
      "text/plain": [
       "<Figure size 360x360 with 1 Axes>"
      ]
     },
     "metadata": {},
     "output_type": "display_data"
    }
   ],
   "source": [
    "data['Cabin_new']=data.Cabin.str.slice(stop=1)\n",
    "data['Cabin_new']=data['Cabin_new'].fillna('NA')\n",
    "\n",
    "sns.countplot(x='Cabin_new',hue='Survived',data=data)"
   ]
  },
  {
   "cell_type": "code",
   "execution_count": 52,
   "metadata": {
    "execution": {
     "iopub.execute_input": "2021-04-08T04:12:40.803668Z",
     "iopub.status.busy": "2021-04-08T04:12:40.802781Z",
     "iopub.status.idle": "2021-04-08T04:12:41.131050Z",
     "shell.execute_reply": "2021-04-08T04:12:41.131545Z"
    },
    "papermill": {
     "duration": 0.374755,
     "end_time": "2021-04-08T04:12:41.131730",
     "exception": false,
     "start_time": "2021-04-08T04:12:40.756975",
     "status": "completed"
    },
    "tags": []
   },
   "outputs": [
    {
     "data": {
      "text/plain": [
       "array([<matplotlib.axes._subplots.AxesSubplot object at 0x7fbc2781d690>,\n",
       "       <matplotlib.axes._subplots.AxesSubplot object at 0x7fbc245f9690>],\n",
       "      dtype=object)"
      ]
     },
     "execution_count": 52,
     "metadata": {},
     "output_type": "execute_result"
    },
    {
     "data": {
      "image/png": "[encoded data removed]",
      "text/plain": [
       "<Figure size 360x360 with 2 Axes>"
      ]
     },
     "metadata": {},
     "output_type": "display_data"
    }
   ],
   "source": [
    "data.Fare.hist(by=[data.Survived])"
   ]
  },
  {
   "cell_type": "code",
   "execution_count": 53,
   "metadata": {
    "execution": {
     "iopub.execute_input": "2021-04-08T04:12:41.219949Z",
     "iopub.status.busy": "2021-04-08T04:12:41.218916Z",
     "iopub.status.idle": "2021-04-08T04:12:41.481391Z",
     "shell.execute_reply": "2021-04-08T04:12:41.480827Z"
    },
    "papermill": {
     "duration": 0.309026,
     "end_time": "2021-04-08T04:12:41.481533",
     "exception": false,
     "start_time": "2021-04-08T04:12:41.172507",
     "status": "completed"
    },
    "tags": []
   },
   "outputs": [
    {
     "data": {
      "text/plain": [
       "<matplotlib.axes._subplots.AxesSubplot at 0x7fbc2477d910>"
      ]
     },
     "execution_count": 53,
     "metadata": {},
     "output_type": "execute_result"
    },
    {
     "data": {
      "image/png": "[encoded data removed]",
      "text/plain": [
       "<Figure size 360x360 with 1 Axes>"
      ]
     },
     "metadata": {},
     "output_type": "display_data"
    }
   ],
   "source": [
    "sns.countplot(x='Parch',hue='Survived',data=train)\n",
    "\n",
    "#Passengers with 0 ,4,5,6 Parch are less likely to survive than 1,2,3"
   ]
  },
  {
   "cell_type": "code",
   "execution_count": 54,
   "metadata": {
    "execution": {
     "iopub.execute_input": "2021-04-08T04:12:41.571522Z",
     "iopub.status.busy": "2021-04-08T04:12:41.570805Z",
     "iopub.status.idle": "2021-04-08T04:12:41.833187Z",
     "shell.execute_reply": "2021-04-08T04:12:41.832013Z"
    },
    "papermill": {
     "duration": 0.309841,
     "end_time": "2021-04-08T04:12:41.833373",
     "exception": false,
     "start_time": "2021-04-08T04:12:41.523532",
     "status": "completed"
    },
    "tags": []
   },
   "outputs": [
    {
     "data": {
      "text/plain": [
       "<matplotlib.axes._subplots.AxesSubplot at 0x7fbc26f83d10>"
      ]
     },
     "execution_count": 54,
     "metadata": {},
     "output_type": "execute_result"
    },
    {
     "data": {
      "image/png": "[encoded data removed]",
      "text/plain": [
       "<Figure size 360x360 with 1 Axes>"
      ]
     },
     "metadata": {},
     "output_type": "display_data"
    }
   ],
   "source": [
    "sns.countplot(x='SibSp',hue='Survived',data=train)"
   ]
  },
  {
   "cell_type": "code",
   "execution_count": 55,
   "metadata": {
    "execution": {
     "iopub.execute_input": "2021-04-08T04:12:41.927983Z",
     "iopub.status.busy": "2021-04-08T04:12:41.927285Z",
     "iopub.status.idle": "2021-04-08T04:12:42.338543Z",
     "shell.execute_reply": "2021-04-08T04:12:42.339004Z"
    },
    "papermill": {
     "duration": 0.461613,
     "end_time": "2021-04-08T04:12:42.339183",
     "exception": false,
     "start_time": "2021-04-08T04:12:41.877570",
     "status": "completed"
    },
    "tags": []
   },
   "outputs": [
    {
     "data": {
      "text/plain": [
       "<matplotlib.axes._subplots.AxesSubplot at 0x7fbc2718cb50>"
      ]
     },
     "execution_count": 55,
     "metadata": {},
     "output_type": "execute_result"
    },
    {
     "data": {
      "image/png": "[encoded data removed]",
      "text/plain": [
       "<Figure size 360x360 with 1 Axes>"
      ]
     },
     "metadata": {},
     "output_type": "display_data"
    }
   ],
   "source": [
    "data['Family']=data['SibSp']+data['Parch']\n",
    "\n",
    "sns.countplot(x='Family',hue='Survived',data=data)"
   ]
  },
  {
   "cell_type": "code",
   "execution_count": 56,
   "metadata": {
    "execution": {
     "iopub.execute_input": "2021-04-08T04:12:42.431485Z",
     "iopub.status.busy": "2021-04-08T04:12:42.430710Z",
     "iopub.status.idle": "2021-04-08T04:12:42.498334Z",
     "shell.execute_reply": "2021-04-08T04:12:42.497759Z"
    },
    "papermill": {
     "duration": 0.114891,
     "end_time": "2021-04-08T04:12:42.498497",
     "exception": false,
     "start_time": "2021-04-08T04:12:42.383606",
     "status": "completed"
    },
    "tags": []
   },
   "outputs": [
    {
     "data": {
      "text/plain": [
       "0    116448\n",
       "1     30139\n",
       "2     25289\n",
       "3     19724\n",
       "5      4249\n",
       "4      4151\n",
       "Name: FamSize, dtype: int64"
      ]
     },
     "execution_count": 56,
     "metadata": {},
     "output_type": "execute_result"
    }
   ],
   "source": [
    "conditions = [\n",
    "    (data['Family'] == 0),\n",
    "    (data['Family'] == 1),\n",
    "    (data['Family'] == 2),\n",
    "    (data['Family'] == 3),\n",
    "    (data['Family'] == 4),]\n",
    "choices = ['0','1','2','3','4']\n",
    "\n",
    "data['FamSize']=np.select(conditions, choices,default='5')\n",
    "data.FamSize.value_counts()"
   ]
  },
  {
   "cell_type": "markdown",
   "metadata": {
    "papermill": {
     "duration": 0.044578,
     "end_time": "2021-04-08T04:12:42.588568",
     "exception": false,
     "start_time": "2021-04-08T04:12:42.543990",
     "status": "completed"
    },
    "tags": []
   },
   "source": [
    "**AGE**"
   ]
  },
  {
   "cell_type": "code",
   "execution_count": 57,
   "metadata": {
    "execution": {
     "iopub.execute_input": "2021-04-08T04:12:42.684424Z",
     "iopub.status.busy": "2021-04-08T04:12:42.683690Z",
     "iopub.status.idle": "2021-04-08T04:12:42.872061Z",
     "shell.execute_reply": "2021-04-08T04:12:42.872740Z"
    },
    "papermill": {
     "duration": 0.239576,
     "end_time": "2021-04-08T04:12:42.872990",
     "exception": false,
     "start_time": "2021-04-08T04:12:42.633414",
     "status": "completed"
    },
    "tags": []
   },
   "outputs": [
    {
     "data": {
      "text/plain": [
       "<matplotlib.axes._subplots.AxesSubplot at 0x7fbc26e48650>"
      ]
     },
     "execution_count": 57,
     "metadata": {},
     "output_type": "execute_result"
    },
    {
     "data": {
      "image/png": "[encoded data removed]",
      "text/plain": [
       "<Figure size 360x360 with 1 Axes>"
      ]
     },
     "metadata": {},
     "output_type": "display_data"
    }
   ],
   "source": [
    "sns.boxplot(x=\"Pclass\",y=\"Age\",data=data)\n"
   ]
  },
  {
   "cell_type": "code",
   "execution_count": 58,
   "metadata": {
    "execution": {
     "iopub.execute_input": "2021-04-08T04:12:42.997203Z",
     "iopub.status.busy": "2021-04-08T04:12:42.996319Z",
     "iopub.status.idle": "2021-04-08T04:12:43.272347Z",
     "shell.execute_reply": "2021-04-08T04:12:43.271730Z"
    },
    "papermill": {
     "duration": 0.34695,
     "end_time": "2021-04-08T04:12:43.272500",
     "exception": false,
     "start_time": "2021-04-08T04:12:42.925550",
     "status": "completed"
    },
    "tags": []
   },
   "outputs": [
    {
     "data": {
      "text/plain": [
       "<matplotlib.axes._subplots.AxesSubplot at 0x7fbc26f12710>"
      ]
     },
     "execution_count": 58,
     "metadata": {},
     "output_type": "execute_result"
    },
    {
     "data": {
      "image/png": "[encoded data removed]",
      "text/plain": [
       "<Figure size 360x360 with 1 Axes>"
      ]
     },
     "metadata": {},
     "output_type": "display_data"
    }
   ],
   "source": [
    "sns.boxplot(x=\"Sex\",y=\"Age\",data=data)\n"
   ]
  },
  {
   "cell_type": "code",
   "execution_count": 59,
   "metadata": {
    "execution": {
     "iopub.execute_input": "2021-04-08T04:12:43.372614Z",
     "iopub.status.busy": "2021-04-08T04:12:43.371430Z",
     "iopub.status.idle": "2021-04-08T04:12:43.644446Z",
     "shell.execute_reply": "2021-04-08T04:12:43.643868Z"
    },
    "papermill": {
     "duration": 0.325271,
     "end_time": "2021-04-08T04:12:43.644583",
     "exception": false,
     "start_time": "2021-04-08T04:12:43.319312",
     "status": "completed"
    },
    "tags": []
   },
   "outputs": [
    {
     "data": {
      "text/plain": [
       "<matplotlib.axes._subplots.AxesSubplot at 0x7fbc2666a090>"
      ]
     },
     "execution_count": 59,
     "metadata": {},
     "output_type": "execute_result"
    },
    {
     "data": {
      "image/png": "[encoded data removed]",
      "text/plain": [
       "<Figure size 360x360 with 1 Axes>"
      ]
     },
     "metadata": {},
     "output_type": "display_data"
    }
   ],
   "source": [
    "sns.boxplot(x=\"SibSp\",y=\"Age\",data=data)\n"
   ]
  },
  {
   "cell_type": "code",
   "execution_count": 60,
   "metadata": {
    "execution": {
     "iopub.execute_input": "2021-04-08T04:12:43.747169Z",
     "iopub.status.busy": "2021-04-08T04:12:43.745940Z",
     "iopub.status.idle": "2021-04-08T04:12:44.055295Z",
     "shell.execute_reply": "2021-04-08T04:12:44.054593Z"
    },
    "papermill": {
     "duration": 0.363458,
     "end_time": "2021-04-08T04:12:44.055444",
     "exception": false,
     "start_time": "2021-04-08T04:12:43.691986",
     "status": "completed"
    },
    "tags": []
   },
   "outputs": [
    {
     "data": {
      "text/plain": [
       "<matplotlib.axes._subplots.AxesSubplot at 0x7fbc2699f810>"
      ]
     },
     "execution_count": 60,
     "metadata": {},
     "output_type": "execute_result"
    },
    {
     "data": {
      "image/png": "[encoded data removed]",
      "text/plain": [
       "<Figure size 360x360 with 1 Axes>"
      ]
     },
     "metadata": {},
     "output_type": "display_data"
    }
   ],
   "source": [
    "sns.boxplot(x=\"Parch\",y=\"Age\",data=data)"
   ]
  },
  {
   "cell_type": "markdown",
   "metadata": {
    "papermill": {
     "duration": 0.048585,
     "end_time": "2021-04-08T04:12:44.152939",
     "exception": false,
     "start_time": "2021-04-08T04:12:44.104354",
     "status": "completed"
    },
    "tags": []
   },
   "source": [
    "**Average Age varies widely within Sibsp, Pclass, Parch, We can use median ages within these categories to use as proxy data for missing age values**"
   ]
  },
  {
   "cell_type": "code",
   "execution_count": 61,
   "metadata": {
    "execution": {
     "iopub.execute_input": "2021-04-08T04:12:44.259584Z",
     "iopub.status.busy": "2021-04-08T04:12:44.258337Z",
     "iopub.status.idle": "2021-04-08T04:12:44.367275Z",
     "shell.execute_reply": "2021-04-08T04:12:44.366408Z"
    },
    "papermill": {
     "duration": 0.165778,
     "end_time": "2021-04-08T04:12:44.367449",
     "exception": false,
     "start_time": "2021-04-08T04:12:44.201671",
     "status": "completed"
    },
    "tags": []
   },
   "outputs": [],
   "source": [
    "age_avg=pd.DataFrame(data[['Age','Pclass','Parch','SibSp']].groupby(['Pclass','Parch','SibSp']).median())\n",
    "\n",
    "age_avg.reset_index(inplace=True)\n",
    "age_avg['Age_avg']=age_avg['Age']\n",
    "age_avg=age_avg.drop('Age',axis=1)\n",
    "m=np.median(age_avg['Age_avg'].dropna())\n",
    "age_avg=age_avg.fillna(m)"
   ]
  },
  {
   "cell_type": "code",
   "execution_count": 62,
   "metadata": {
    "execution": {
     "iopub.execute_input": "2021-04-08T04:12:44.473119Z",
     "iopub.status.busy": "2021-04-08T04:12:44.472094Z",
     "iopub.status.idle": "2021-04-08T04:12:44.691983Z",
     "shell.execute_reply": "2021-04-08T04:12:44.691260Z"
    },
    "papermill": {
     "duration": 0.275778,
     "end_time": "2021-04-08T04:12:44.692133",
     "exception": false,
     "start_time": "2021-04-08T04:12:44.416355",
     "status": "completed"
    },
    "tags": []
   },
   "outputs": [],
   "source": [
    "data=data.merge(age_avg,on=['Pclass','Parch','SibSp'],how='left')"
   ]
  },
  {
   "cell_type": "code",
   "execution_count": 63,
   "metadata": {
    "execution": {
     "iopub.execute_input": "2021-04-08T04:12:44.797404Z",
     "iopub.status.busy": "2021-04-08T04:12:44.796037Z",
     "iopub.status.idle": "2021-04-08T04:12:44.802530Z",
     "shell.execute_reply": "2021-04-08T04:12:44.801688Z"
    },
    "papermill": {
     "duration": 0.061823,
     "end_time": "2021-04-08T04:12:44.802685",
     "exception": false,
     "start_time": "2021-04-08T04:12:44.740862",
     "status": "completed"
    },
    "tags": []
   },
   "outputs": [],
   "source": [
    "data['Age']=data['Age'].fillna(data['Age_avg'])"
   ]
  },
  {
   "cell_type": "code",
   "execution_count": 64,
   "metadata": {
    "execution": {
     "iopub.execute_input": "2021-04-08T04:12:44.952883Z",
     "iopub.status.busy": "2021-04-08T04:12:44.935505Z",
     "iopub.status.idle": "2021-04-08T04:12:45.229137Z",
     "shell.execute_reply": "2021-04-08T04:12:45.228518Z"
    },
    "papermill": {
     "duration": 0.377545,
     "end_time": "2021-04-08T04:12:45.229307",
     "exception": false,
     "start_time": "2021-04-08T04:12:44.851762",
     "status": "completed"
    },
    "tags": []
   },
   "outputs": [
    {
     "data": {
      "text/plain": [
       "<matplotlib.axes._subplots.AxesSubplot at 0x7fbc27f95950>"
      ]
     },
     "execution_count": 64,
     "metadata": {},
     "output_type": "execute_result"
    },
    {
     "data": {
      "image/png": "[encoded data removed]",
      "text/plain": [
       "<Figure size 360x360 with 1 Axes>"
      ]
     },
     "metadata": {},
     "output_type": "display_data"
    }
   ],
   "source": [
    "sns.countplot(x='Embarked',hue='Survived',data=train)"
   ]
  },
  {
   "cell_type": "code",
   "execution_count": 65,
   "metadata": {
    "execution": {
     "iopub.execute_input": "2021-04-08T04:12:45.356430Z",
     "iopub.status.busy": "2021-04-08T04:12:45.355456Z",
     "iopub.status.idle": "2021-04-08T04:12:45.410107Z",
     "shell.execute_reply": "2021-04-08T04:12:45.410661Z"
    },
    "papermill": {
     "duration": 0.131449,
     "end_time": "2021-04-08T04:12:45.410844",
     "exception": false,
     "start_time": "2021-04-08T04:12:45.279395",
     "status": "completed"
    },
    "tags": []
   },
   "outputs": [
    {
     "name": "stdout",
     "output_type": "stream",
     "text": [
      "527\n",
      "0\n",
      "267\n",
      "0\n"
     ]
    }
   ],
   "source": [
    "print(data['Embarked'].isna().agg('sum'))\n",
    "\n",
    "data['Embarked']=data['Embarked'].fillna('S')\n",
    "print(data['Embarked'].isna().agg('sum'))\n",
    "\n",
    "\n",
    "print(data['Fare'].isna().agg('sum'))\n",
    "data['Fare']=data['Fare'].fillna(np.mean(data['Fare']))\n",
    "print(data['Fare'].isna().agg('sum'))"
   ]
  },
  {
   "cell_type": "markdown",
   "metadata": {
    "papermill": {
     "duration": 0.049706,
     "end_time": "2021-04-08T04:12:45.510765",
     "exception": false,
     "start_time": "2021-04-08T04:12:45.461059",
     "status": "completed"
    },
    "tags": []
   },
   "source": [
    "**Using one hot encoding for categorical variables**"
   ]
  },
  {
   "cell_type": "code",
   "execution_count": 66,
   "metadata": {
    "execution": {
     "iopub.execute_input": "2021-04-08T04:12:45.650039Z",
     "iopub.status.busy": "2021-04-08T04:12:45.649184Z",
     "iopub.status.idle": "2021-04-08T04:12:46.078745Z",
     "shell.execute_reply": "2021-04-08T04:12:46.077983Z"
    },
    "papermill": {
     "duration": 0.517794,
     "end_time": "2021-04-08T04:12:46.078958",
     "exception": false,
     "start_time": "2021-04-08T04:12:45.561164",
     "status": "completed"
    },
    "tags": []
   },
   "outputs": [
    {
     "data": {
      "text/plain": [
       "<matplotlib.axes._subplots.AxesSubplot at 0x7fbc22d2ff10>"
      ]
     },
     "execution_count": 66,
     "metadata": {},
     "output_type": "execute_result"
    },
    {
     "data": {
      "image/png": "[encoded data removed]",
      "text/plain": [
       "<Figure size 360x360 with 1 Axes>"
      ]
     },
     "metadata": {},
     "output_type": "display_data"
    }
   ],
   "source": [
    "conditions = [\n",
    "    (data['Sex'] == 'male') ]\n",
    "choices = [1]\n",
    "\n",
    "data['Sex']=np.select(conditions, choices,default=0)\n",
    "\n",
    "data.Sex.hist()"
   ]
  },
  {
   "cell_type": "code",
   "execution_count": 67,
   "metadata": {
    "execution": {
     "iopub.execute_input": "2021-04-08T04:12:46.206366Z",
     "iopub.status.busy": "2021-04-08T04:12:46.204590Z",
     "iopub.status.idle": "2021-04-08T04:12:46.464289Z",
     "shell.execute_reply": "2021-04-08T04:12:46.463753Z"
    },
    "papermill": {
     "duration": 0.321075,
     "end_time": "2021-04-08T04:12:46.464436",
     "exception": false,
     "start_time": "2021-04-08T04:12:46.143361",
     "status": "completed"
    },
    "tags": []
   },
   "outputs": [
    {
     "data": {
      "text/html": [
       "<div>\n",
       "<style scoped>\n",
       "    .dataframe tbody tr th:only-of-type {\n",
       "        vertical-align: middle;\n",
       "    }\n",
       "\n",
       "    .dataframe tbody tr th {\n",
       "        vertical-align: top;\n",
       "    }\n",
       "\n",
       "    .dataframe thead th {\n",
       "        text-align: right;\n",
       "    }\n",
       "</style>\n",
       "<table border=\"1\" class=\"dataframe\">\n",
       "  <thead>\n",
       "    <tr style=\"text-align: right;\">\n",
       "      <th></th>\n",
       "      <th>Survived</th>\n",
       "      <th>Sex</th>\n",
       "      <th>Age</th>\n",
       "      <th>Fare</th>\n",
       "      <th>dataset</th>\n",
       "      <th>ticket_pp</th>\n",
       "      <th>Family</th>\n",
       "      <th>Pclass_1</th>\n",
       "      <th>Pclass_2</th>\n",
       "      <th>Pclass_3</th>\n",
       "      <th>...</th>\n",
       "      <th>Parch_1</th>\n",
       "      <th>Parch_2</th>\n",
       "      <th>Parch_3</th>\n",
       "      <th>Parch_4</th>\n",
       "      <th>Parch_5</th>\n",
       "      <th>Parch_6</th>\n",
       "      <th>Parch_9</th>\n",
       "      <th>Embark_C</th>\n",
       "      <th>Embark_Q</th>\n",
       "      <th>Embark_S</th>\n",
       "    </tr>\n",
       "  </thead>\n",
       "  <tbody>\n",
       "    <tr>\n",
       "      <th>0</th>\n",
       "      <td>1.0</td>\n",
       "      <td>1</td>\n",
       "      <td>39.00</td>\n",
       "      <td>27.14</td>\n",
       "      <td>Train</td>\n",
       "      <td>0</td>\n",
       "      <td>2</td>\n",
       "      <td>1</td>\n",
       "      <td>0</td>\n",
       "      <td>0</td>\n",
       "      <td>...</td>\n",
       "      <td>0</td>\n",
       "      <td>0</td>\n",
       "      <td>0</td>\n",
       "      <td>0</td>\n",
       "      <td>0</td>\n",
       "      <td>0</td>\n",
       "      <td>0</td>\n",
       "      <td>0</td>\n",
       "      <td>0</td>\n",
       "      <td>1</td>\n",
       "    </tr>\n",
       "    <tr>\n",
       "      <th>1</th>\n",
       "      <td>0.0</td>\n",
       "      <td>1</td>\n",
       "      <td>28.00</td>\n",
       "      <td>13.35</td>\n",
       "      <td>Train</td>\n",
       "      <td>0</td>\n",
       "      <td>0</td>\n",
       "      <td>0</td>\n",
       "      <td>0</td>\n",
       "      <td>1</td>\n",
       "      <td>...</td>\n",
       "      <td>0</td>\n",
       "      <td>0</td>\n",
       "      <td>0</td>\n",
       "      <td>0</td>\n",
       "      <td>0</td>\n",
       "      <td>0</td>\n",
       "      <td>0</td>\n",
       "      <td>0</td>\n",
       "      <td>0</td>\n",
       "      <td>1</td>\n",
       "    </tr>\n",
       "    <tr>\n",
       "      <th>2</th>\n",
       "      <td>0.0</td>\n",
       "      <td>1</td>\n",
       "      <td>0.33</td>\n",
       "      <td>71.29</td>\n",
       "      <td>Train</td>\n",
       "      <td>0</td>\n",
       "      <td>3</td>\n",
       "      <td>0</td>\n",
       "      <td>0</td>\n",
       "      <td>1</td>\n",
       "      <td>...</td>\n",
       "      <td>0</td>\n",
       "      <td>1</td>\n",
       "      <td>0</td>\n",
       "      <td>0</td>\n",
       "      <td>0</td>\n",
       "      <td>0</td>\n",
       "      <td>0</td>\n",
       "      <td>0</td>\n",
       "      <td>0</td>\n",
       "      <td>1</td>\n",
       "    </tr>\n",
       "    <tr>\n",
       "      <th>3</th>\n",
       "      <td>0.0</td>\n",
       "      <td>1</td>\n",
       "      <td>19.00</td>\n",
       "      <td>13.04</td>\n",
       "      <td>Train</td>\n",
       "      <td>0</td>\n",
       "      <td>0</td>\n",
       "      <td>0</td>\n",
       "      <td>0</td>\n",
       "      <td>1</td>\n",
       "      <td>...</td>\n",
       "      <td>0</td>\n",
       "      <td>0</td>\n",
       "      <td>0</td>\n",
       "      <td>0</td>\n",
       "      <td>0</td>\n",
       "      <td>0</td>\n",
       "      <td>0</td>\n",
       "      <td>0</td>\n",
       "      <td>0</td>\n",
       "      <td>1</td>\n",
       "    </tr>\n",
       "    <tr>\n",
       "      <th>4</th>\n",
       "      <td>1.0</td>\n",
       "      <td>1</td>\n",
       "      <td>25.00</td>\n",
       "      <td>7.76</td>\n",
       "      <td>Train</td>\n",
       "      <td>0</td>\n",
       "      <td>0</td>\n",
       "      <td>0</td>\n",
       "      <td>0</td>\n",
       "      <td>1</td>\n",
       "      <td>...</td>\n",
       "      <td>0</td>\n",
       "      <td>0</td>\n",
       "      <td>0</td>\n",
       "      <td>0</td>\n",
       "      <td>0</td>\n",
       "      <td>0</td>\n",
       "      <td>0</td>\n",
       "      <td>0</td>\n",
       "      <td>0</td>\n",
       "      <td>1</td>\n",
       "    </tr>\n",
       "  </tbody>\n",
       "</table>\n",
       "<p>5 rows × 43 columns</p>\n",
       "</div>"
      ],
      "text/plain": [
       "   Survived  Sex    Age   Fare dataset  ticket_pp  Family  Pclass_1  Pclass_2  \\\n",
       "0       1.0    1  39.00  27.14   Train          0       2         1         0   \n",
       "1       0.0    1  28.00  13.35   Train          0       0         0         0   \n",
       "2       0.0    1   0.33  71.29   Train          0       3         0         0   \n",
       "3       0.0    1  19.00  13.04   Train          0       0         0         0   \n",
       "4       1.0    1  25.00   7.76   Train          0       0         0         0   \n",
       "\n",
       "   Pclass_3  ...  Parch_1  Parch_2  Parch_3  Parch_4  Parch_5  Parch_6  \\\n",
       "0         0  ...        0        0        0        0        0        0   \n",
       "1         1  ...        0        0        0        0        0        0   \n",
       "2         1  ...        0        1        0        0        0        0   \n",
       "3         1  ...        0        0        0        0        0        0   \n",
       "4         1  ...        0        0        0        0        0        0   \n",
       "\n",
       "   Parch_9  Embark_C  Embark_Q  Embark_S  \n",
       "0        0         0         0         1  \n",
       "1        0         0         0         1  \n",
       "2        0         0         0         1  \n",
       "3        0         0         0         1  \n",
       "4        0         0         0         1  \n",
       "\n",
       "[5 rows x 43 columns]"
      ]
     },
     "execution_count": 67,
     "metadata": {},
     "output_type": "execute_result"
    }
   ],
   "source": [
    "data_final=pd.get_dummies(data,columns=['Pclass','FamSize','Cabin_new','SibSp','Parch','Embarked'],prefix=['Pclass','FamSize','Cabin','SibSp','Parch','Embark'])\n",
    "\n",
    "data_final=data_final.drop(['PassengerId','Ticket_1','Name','Cabin','Ticket','Age_avg'],axis=1)\n",
    "\n",
    "\n",
    "data_final.head()"
   ]
  },
  {
   "cell_type": "code",
   "execution_count": 68,
   "metadata": {
    "execution": {
     "iopub.execute_input": "2021-04-08T04:12:46.605865Z",
     "iopub.status.busy": "2021-04-08T04:12:46.604693Z",
     "iopub.status.idle": "2021-04-08T04:12:46.694983Z",
     "shell.execute_reply": "2021-04-08T04:12:46.694239Z"
    },
    "papermill": {
     "duration": 0.17763,
     "end_time": "2021-04-08T04:12:46.695146",
     "exception": false,
     "start_time": "2021-04-08T04:12:46.517516",
     "status": "completed"
    },
    "tags": []
   },
   "outputs": [],
   "source": [
    "Train_final = data_final[data_final['dataset']=='Train']\n",
    "Val_final=data_final[data_final['dataset']=='Test']\n",
    "\n",
    "Train_final=Train_final.drop('dataset',axis=1)\n",
    "Val_final=Val_final.drop(['dataset','Survived'],axis=1)"
   ]
  },
  {
   "cell_type": "code",
   "execution_count": 69,
   "metadata": {
    "execution": {
     "iopub.execute_input": "2021-04-08T04:12:46.814781Z",
     "iopub.status.busy": "2021-04-08T04:12:46.813640Z",
     "iopub.status.idle": "2021-04-08T04:12:46.819469Z",
     "shell.execute_reply": "2021-04-08T04:12:46.818631Z"
    },
    "papermill": {
     "duration": 0.06708,
     "end_time": "2021-04-08T04:12:46.819642",
     "exception": false,
     "start_time": "2021-04-08T04:12:46.752562",
     "status": "completed"
    },
    "tags": []
   },
   "outputs": [],
   "source": [
    "y=Train_final['Survived']\n",
    "X=Train_final.drop('Survived', axis =1)"
   ]
  },
  {
   "cell_type": "code",
   "execution_count": 70,
   "metadata": {
    "execution": {
     "iopub.execute_input": "2021-04-08T04:12:46.945327Z",
     "iopub.status.busy": "2021-04-08T04:12:46.944539Z",
     "iopub.status.idle": "2021-04-08T04:12:46.981149Z",
     "shell.execute_reply": "2021-04-08T04:12:46.980411Z"
    },
    "papermill": {
     "duration": 0.106833,
     "end_time": "2021-04-08T04:12:46.981420",
     "exception": false,
     "start_time": "2021-04-08T04:12:46.874587",
     "status": "completed"
    },
    "tags": []
   },
   "outputs": [],
   "source": [
    "X_train,X_test,y_train,y_test = train_test_split(X,y,random_state=10, test_size=0.2)"
   ]
  },
  {
   "cell_type": "code",
   "execution_count": 71,
   "metadata": {
    "execution": {
     "iopub.execute_input": "2021-04-08T04:12:47.096543Z",
     "iopub.status.busy": "2021-04-08T04:12:47.095760Z",
     "iopub.status.idle": "2021-04-08T04:15:52.361400Z",
     "shell.execute_reply": "2021-04-08T04:15:52.361901Z"
    },
    "papermill": {
     "duration": 185.328436,
     "end_time": "2021-04-08T04:15:52.362086",
     "exception": false,
     "start_time": "2021-04-08T04:12:47.033650",
     "status": "completed"
    },
    "tags": []
   },
   "outputs": [
    {
     "name": "stdout",
     "output_type": "stream",
     "text": [
      "0.7787375511814952\n",
      "0.7776\n",
      "{'bootstrap': False, 'max_depth': 10, 'min_samples_leaf': 3, 'min_samples_split': 2, 'n_estimators': 50}\n",
      "[[9470 1925]\n",
      " [2523 6082]]\n",
      "0.8479960654323294\n"
     ]
    }
   ],
   "source": [
    "from sklearn.ensemble import RandomForestClassifier\n",
    "\n",
    "params={'max_depth' : [6,8,10], \n",
    "       'n_estimators': [50, 100], \n",
    "        'min_samples_split': [2, 3], \n",
    "        'min_samples_leaf': [1, 3], \n",
    "        'bootstrap': [False]\n",
    "       }\n",
    "\n",
    "rf=RandomForestClassifier()\n",
    "\n",
    "rf_b=GridSearchCV(rf,param_grid=params,cv=3) \n",
    "\n",
    "rf_b.fit(X_train,y_train)\n",
    "\n",
    "print(rf_b.best_score_)\n",
    "\n",
    "print(rf_b.score(X_test,y_test))\n",
    "\n",
    "print(rf_b.best_params_)\n",
    "\n",
    "y_rf_pred=rf_b.predict(X_test)\n",
    "\n",
    "print(confusion_matrix(y_test,y_rf_pred))\n",
    "\n",
    "y_rf_prob_pred=rf_b.predict_proba(X_test)\n",
    "\n",
    "print(roc_auc_score(y_test,y_rf_prob_pred[:,1]))"
   ]
  },
  {
   "cell_type": "markdown",
   "metadata": {
    "execution": {
     "iopub.execute_input": "2021-04-07T00:07:37.707983Z",
     "iopub.status.busy": "2021-04-07T00:07:37.70696Z",
     "iopub.status.idle": "2021-04-07T00:07:37.71081Z",
     "shell.execute_reply": "2021-04-07T00:07:37.710088Z"
    },
    "papermill": {
     "duration": 0.0528,
     "end_time": "2021-04-08T04:15:52.467808",
     "exception": false,
     "start_time": "2021-04-08T04:15:52.415008",
     "status": "completed"
    },
    "tags": []
   },
   "source": [
    "d={'Feature':np.array(X_train.columns),'Importance':rf_b.best_estimator_.feature_importances_}\n",
    "Features=pd.DataFrame(d)\n",
    "Features.sort_values('Importance', inplace=True,ascending=False)"
   ]
  },
  {
   "cell_type": "code",
   "execution_count": 72,
   "metadata": {
    "execution": {
     "iopub.execute_input": "2021-04-08T04:15:52.581992Z",
     "iopub.status.busy": "2021-04-08T04:15:52.581002Z",
     "iopub.status.idle": "2021-04-08T04:15:52.592136Z",
     "shell.execute_reply": "2021-04-08T04:15:52.591570Z"
    },
    "papermill": {
     "duration": 0.071304,
     "end_time": "2021-04-08T04:15:52.592288",
     "exception": false,
     "start_time": "2021-04-08T04:15:52.520984",
     "status": "completed"
    },
    "tags": []
   },
   "outputs": [],
   "source": [
    "d={'Feature':np.array(X_train.columns),'Importance':rf_b.best_estimator_.feature_importances_} \n",
    "Features=pd.DataFrame(d) \n",
    "Features.sort_values('Importance', inplace=True,ascending=False)"
   ]
  },
  {
   "cell_type": "code",
   "execution_count": 73,
   "metadata": {
    "execution": {
     "iopub.execute_input": "2021-04-08T04:15:52.715045Z",
     "iopub.status.busy": "2021-04-08T04:15:52.709836Z",
     "iopub.status.idle": "2021-04-08T04:15:53.226349Z",
     "shell.execute_reply": "2021-04-08T04:15:53.225695Z"
    },
    "papermill": {
     "duration": 0.581065,
     "end_time": "2021-04-08T04:15:53.226497",
     "exception": false,
     "start_time": "2021-04-08T04:15:52.645432",
     "status": "completed"
    },
    "tags": []
   },
   "outputs": [
    {
     "data": {
      "text/plain": [
       "<matplotlib.axes._subplots.AxesSubplot at 0x7fbc291e1250>"
      ]
     },
     "execution_count": 73,
     "metadata": {},
     "output_type": "execute_result"
    },
    {
     "data": {
      "image/png": "[encoded data removed]",
      "text/plain": [
       "<Figure size 360x360 with 1 Axes>"
      ]
     },
     "metadata": {},
     "output_type": "display_data"
    }
   ],
   "source": [
    "sns.barplot(y='Feature',x='Importance', data=Features,palette=\"Blues_d\")\n"
   ]
  },
  {
   "cell_type": "code",
   "execution_count": 74,
   "metadata": {
    "execution": {
     "iopub.execute_input": "2021-04-08T04:15:53.345831Z",
     "iopub.status.busy": "2021-04-08T04:15:53.345123Z",
     "iopub.status.idle": "2021-04-08T04:20:11.198298Z",
     "shell.execute_reply": "2021-04-08T04:20:11.197588Z"
    },
    "papermill": {
     "duration": 257.91656,
     "end_time": "2021-04-08T04:20:11.198458",
     "exception": false,
     "start_time": "2021-04-08T04:15:53.281898",
     "status": "completed"
    },
    "tags": []
   },
   "outputs": [
    {
     "name": "stdout",
     "output_type": "stream",
     "text": [
      "0.7787500575878292\n",
      "0.78315\n",
      "{'max_depth': 2, 'n_estimators': 400}\n",
      "[[9385 2010]\n",
      " [2327 6278]]\n",
      "0.8499240290870411\n"
     ]
    }
   ],
   "source": [
    "from sklearn.ensemble import GradientBoostingClassifier\n",
    "\n",
    "params={'n_estimators':[200,400], \n",
    "#        'learning_rate': [ 0.1,0.2,0.4],\n",
    "#        'max_features': [2,3,4,7],\n",
    "        'max_depth': [2,4]}\n",
    "\n",
    "gb=GradientBoostingClassifier(random_state=42)\n",
    "\n",
    "gb_b=GridSearchCV(gb,param_grid=params,cv=3)\n",
    "gb_b.fit(X_train,y_train)\n",
    "\n",
    "print(gb_b.best_score_)\n",
    "\n",
    "print(gb_b.score(X_test,y_test))\n",
    "\n",
    "print(gb_b.best_params_)\n",
    "\n",
    "y_gb_pred=gb_b.predict(X_test)\n",
    "print(confusion_matrix(y_test,y_gb_pred))\n",
    "\n",
    "y_gb_prob_pred=gb_b.predict_proba(X_test)\n",
    "\n",
    "print(roc_auc_score(y_test,y_gb_prob_pred[:,1]))"
   ]
  },
  {
   "cell_type": "code",
   "execution_count": 32,
   "metadata": {
    "execution": {
     "iopub.execute_input": "2021-04-08T04:20:11.324591Z",
     "iopub.status.busy": "2021-04-08T04:20:11.323886Z",
     "iopub.status.idle": "2021-04-08T04:20:11.330990Z",
     "shell.execute_reply": "2021-04-08T04:20:11.330305Z"
    },
    "papermill": {
     "duration": 0.077098,
     "end_time": "2021-04-08T04:20:11.331137",
     "exception": false,
     "start_time": "2021-04-08T04:20:11.254039",
     "status": "completed"
    },
    "tags": []
   },
   "outputs": [],
   "source": [
    "d={'Feature':np.array(X_train.columns),'Importance':gb_b.best_estimator_.feature_importances_}\n",
    "Features_gb=pd.DataFrame(d)\n",
    "Features_gb.sort_values('Importance', inplace=True,ascending=False)"
   ]
  },
  {
   "cell_type": "code",
   "execution_count": 75,
   "metadata": {
    "execution": {
     "iopub.execute_input": "2021-04-08T04:20:11.491048Z",
     "iopub.status.busy": "2021-04-08T04:20:11.488657Z",
     "iopub.status.idle": "2021-04-08T04:20:11.959657Z",
     "shell.execute_reply": "2021-04-08T04:20:11.959106Z"
    },
    "papermill": {
     "duration": 0.572968,
     "end_time": "2021-04-08T04:20:11.959885",
     "exception": false,
     "start_time": "2021-04-08T04:20:11.386917",
     "status": "completed"
    },
    "tags": []
   },
   "outputs": [
    {
     "data": {
      "text/plain": [
       "<matplotlib.axes._subplots.AxesSubplot at 0x7fbc29fa8710>"
      ]
     },
     "execution_count": 75,
     "metadata": {},
     "output_type": "execute_result"
    },
    {
     "data": {
      "image/png": "[encoded data removed]",
      "text/plain": [
       "<Figure size 360x360 with 1 Axes>"
      ]
     },
     "metadata": {},
     "output_type": "display_data"
    }
   ],
   "source": [
    "sns.barplot(y='Feature',x='Importance', data=Features_gb,palette=\"Blues_d\")\n"
   ]
  },
  {
   "cell_type": "code",
   "execution_count": 76,
   "metadata": {
    "execution": {
     "iopub.execute_input": "2021-04-08T04:20:12.085056Z",
     "iopub.status.busy": "2021-04-08T04:20:12.084204Z",
     "iopub.status.idle": "2021-04-08T04:21:10.372774Z",
     "shell.execute_reply": "2021-04-08T04:21:10.373298Z"
    },
    "papermill": {
     "duration": 58.355899,
     "end_time": "2021-04-08T04:21:10.373472",
     "exception": false,
     "start_time": "2021-04-08T04:20:12.017573",
     "status": "completed"
    },
    "tags": []
   },
   "outputs": [
    {
     "name": "stdout",
     "output_type": "stream",
     "text": [
      "{'booster': 'gbtree', 'eval_metric': 'error', 'learning_rate': 0.1, 'max_depth': 4, 'n_estimators': 100, 'objective': 'binary:logistic', 'seed': 1337}\n",
      "0.78275\n"
     ]
    }
   ],
   "source": [
    "from xgboost import XGBClassifier\n",
    "from sklearn.model_selection import cross_val_score\n",
    "\n",
    "xgb = XGBClassifier(use_label_encoder=False,verbosity=1)\n",
    "#cv = RepeatedStratifiedKFold(n_splits=10, n_repeats=3, random_state=1)\n",
    "#n_scores = cross_val_score(xgb, X_train, y_train, scoring='accuracy', cv=5)\n",
    "#print('Accuracy: %.3f (%.3f)' % (np.mean(n_scores), np.std(n_scores)))\n",
    "\n",
    "\n",
    "parameters = {'eval_metric':['error'],\n",
    "              'objective':['binary:logistic'],\n",
    "              'learning_rate': [0.1,0.2], \n",
    "              'max_depth': [2,3,4,5],\n",
    "              'booster' : ['gbtree'],\n",
    "              'n_estimators': [100],\n",
    "              'seed': [1337]}\n",
    "\n",
    "\n",
    "xgb_b = GridSearchCV(xgb, parameters, \n",
    "                   cv=3, \n",
    "                   scoring='accuracy',\n",
    "                    refit=True)\n",
    "\n",
    "xgb_b.fit(X_train,y_train)\n",
    "\n",
    "print(xgb_b.best_params_)\n",
    "\n",
    "print(xgb_b.score(X_test,y_test))\n"
   ]
  },
  {
   "cell_type": "code",
   "execution_count": 77,
   "metadata": {
    "execution": {
     "iopub.execute_input": "2021-04-08T04:21:10.495494Z",
     "iopub.status.busy": "2021-04-08T04:21:10.494838Z",
     "iopub.status.idle": "2021-04-08T04:29:29.749944Z",
     "shell.execute_reply": "2021-04-08T04:29:29.750453Z"
    },
    "papermill": {
     "duration": 499.319444,
     "end_time": "2021-04-08T04:29:29.750645",
     "exception": false,
     "start_time": "2021-04-08T04:21:10.431201",
     "status": "completed"
    },
    "tags": []
   },
   "outputs": [
    {
     "name": "stdout",
     "output_type": "stream",
     "text": [
      "The accuracy for Ensemble is: 0.783\n"
     ]
    }
   ],
   "source": [
    "ensemble=VotingClassifier(estimators=[ ('XGBoost', xgb_b), ('Random Forest', rf_b), ('Gradient boosting', gb_b)], voting='soft', weights=[1,1,1]).fit(X_train,y_train) \n",
    "print('The accuracy for Ensemble is:',ensemble.score(X_test,y_test))"
   ]
  },
  {
   "cell_type": "code",
   "execution_count": 78,
   "metadata": {
    "execution": {
     "iopub.execute_input": "2021-04-08T04:29:29.875537Z",
     "iopub.status.busy": "2021-04-08T04:29:29.874515Z",
     "iopub.status.idle": "2021-04-08T04:29:29.882434Z",
     "shell.execute_reply": "2021-04-08T04:29:29.881687Z"
    },
    "papermill": {
     "duration": 0.072935,
     "end_time": "2021-04-08T04:29:29.882581",
     "exception": false,
     "start_time": "2021-04-08T04:29:29.809646",
     "status": "completed"
    },
    "tags": []
   },
   "outputs": [
    {
     "name": "stdout",
     "output_type": "stream",
     "text": [
      "0\n",
      "0\n"
     ]
    }
   ],
   "source": [
    "print(Val_final['Fare'].isnull().agg('sum'))\n",
    "\n",
    "Val_final['Fare']=Val_final['Fare'].fillna(np.mean(Val_final['Fare']))\n",
    "\n",
    "print(Val_final['Fare'].isnull().agg('sum'))"
   ]
  },
  {
   "cell_type": "code",
   "execution_count": 79,
   "metadata": {
    "execution": {
     "iopub.execute_input": "2021-04-08T04:29:30.007904Z",
     "iopub.status.busy": "2021-04-08T04:29:30.007114Z",
     "iopub.status.idle": "2021-04-08T04:29:30.129074Z",
     "shell.execute_reply": "2021-04-08T04:29:30.128462Z"
    },
    "papermill": {
     "duration": 0.187769,
     "end_time": "2021-04-08T04:29:30.129264",
     "exception": false,
     "start_time": "2021-04-08T04:29:29.941495",
     "status": "completed"
    },
    "tags": []
   },
   "outputs": [
    {
     "data": {
      "text/html": [
       "<div>\n",
       "<style scoped>\n",
       "    .dataframe tbody tr th:only-of-type {\n",
       "        vertical-align: middle;\n",
       "    }\n",
       "\n",
       "    .dataframe tbody tr th {\n",
       "        vertical-align: top;\n",
       "    }\n",
       "\n",
       "    .dataframe thead th {\n",
       "        text-align: right;\n",
       "    }\n",
       "</style>\n",
       "<table border=\"1\" class=\"dataframe\">\n",
       "  <thead>\n",
       "    <tr style=\"text-align: right;\">\n",
       "      <th></th>\n",
       "      <th>PassengerId</th>\n",
       "      <th>Survived</th>\n",
       "    </tr>\n",
       "  </thead>\n",
       "  <tbody>\n",
       "    <tr>\n",
       "      <th>0</th>\n",
       "      <td>100000</td>\n",
       "      <td>0</td>\n",
       "    </tr>\n",
       "    <tr>\n",
       "      <th>1</th>\n",
       "      <td>100001</td>\n",
       "      <td>1</td>\n",
       "    </tr>\n",
       "    <tr>\n",
       "      <th>2</th>\n",
       "      <td>100002</td>\n",
       "      <td>1</td>\n",
       "    </tr>\n",
       "    <tr>\n",
       "      <th>3</th>\n",
       "      <td>100003</td>\n",
       "      <td>0</td>\n",
       "    </tr>\n",
       "    <tr>\n",
       "      <th>4</th>\n",
       "      <td>100004</td>\n",
       "      <td>1</td>\n",
       "    </tr>\n",
       "  </tbody>\n",
       "</table>\n",
       "</div>"
      ],
      "text/plain": [
       "   PassengerId  Survived\n",
       "0       100000         0\n",
       "1       100001         1\n",
       "2       100002         1\n",
       "3       100003         0\n",
       "4       100004         1"
      ]
     },
     "execution_count": 79,
     "metadata": {},
     "output_type": "execute_result"
    }
   ],
   "source": [
    "pred=xgb_b.predict(Val_final)\n",
    "\n",
    "pred2=pred.astype('int64')\n",
    "\n",
    "submission = pd.DataFrame({'PassengerId': val['PassengerId'],'Survived': pred2})\n",
    "\n",
    "submission.head()"
   ]
  },
  {
   "cell_type": "code",
   "execution_count": 80,
   "metadata": {
    "execution": {
     "iopub.execute_input": "2021-04-08T04:29:30.253375Z",
     "iopub.status.busy": "2021-04-08T04:29:30.252689Z",
     "iopub.status.idle": "2021-04-08T04:29:30.445074Z",
     "shell.execute_reply": "2021-04-08T04:29:30.443739Z"
    },
    "papermill": {
     "duration": 0.255998,
     "end_time": "2021-04-08T04:29:30.445250",
     "exception": false,
     "start_time": "2021-04-08T04:29:30.189252",
     "status": "completed"
    },
    "tags": []
   },
   "outputs": [],
   "source": [
    "submission.to_csv(\"./Submission.csv\", index=False)"
   ]
  },
  {
   "cell_type": "code",
   "execution_count": null,
   "metadata": {},
   "outputs": [],
   "source": []
  }
 ],
 "metadata": {
  "kernelspec": {
   "display_name": "Python 3",
   "language": "python",
   "name": "python3"
  },
  "language_info": {
   "codemirror_mode": {
    "name": "ipython",
    "version": 3
   },
   "file_extension": ".py",
   "mimetype": "text/x-python",
   "name": "python",
   "nbconvert_exporter": "python",
   "pygments_lexer": "ipython3",
   "version": "3.7.6"
  },
  "papermill": {
   "default_parameters": {},
   "duration": 1026.414598,
   "end_time": "2021-04-08T04:29:31.315671",
   "environment_variables": {},
   "exception": null,
   "input_path": "__notebook__.ipynb",
   "output_path": "__notebook__.ipynb",
   "parameters": {},
   "start_time": "2021-04-08T04:12:24.901073",
   "version": "2.3.2"
  }
 },
 "nbformat": 4,
 "nbformat_minor": 5
}
